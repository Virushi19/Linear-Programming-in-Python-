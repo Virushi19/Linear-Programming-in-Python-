{
 "cells": [
  {
   "cell_type": "markdown",
   "id": "e6d8146c",
   "metadata": {},
   "source": [
    "### Data\n",
    "The dataset utilized in this research comprises two CSV files detailing the ingredients and pastries for a bakery's production planning. The first file, ingredients.csv, lists the quantities of three key ingredients available: 57.5 units of yeast, 112.5 units of flour, and 245 units of sugar. The second file, pastry.csv, provides detailed information about three types of pastries: Apple Pie, Croissant, and Poppy Seed. For each pastry, the dataset includes its name, price, and the quantities of yeast, flour, and sugar required for production. Specifically, the Apple Pie requires 0.75 units of flour and 1.5 units of sugar; the Croissant needs 0.5 units of yeast, 1.5 units of flour, and 0.25 units of sugar; and the Poppy Seed demands 1.15 units of yeast, 1.5 units of flour, and 0.75 units of sugar. This dataset provides a comprehensive basis for optimizing production strategies to maximize profit within the given ingredient constraints."
   ]
  },
  {
   "cell_type": "code",
   "execution_count": 82,
   "id": "983f4a5b",
   "metadata": {},
   "outputs": [
    {
     "name": "stdout",
     "output_type": "stream",
     "text": [
      "   Yeast  Flour  Sugar\n",
      "0   57.5  112.5    245\n",
      "Index(['Yeast', 'Flour', 'Sugar'], dtype='object')\n"
     ]
    }
   ],
   "source": [
    "import pandas as pd\n",
    "ingredients = pd.read_csv(\"ingredients.csv\")\n",
    "print(ingredients)\n",
    "print(ingredients.columns)"
   ]
  },
  {
   "cell_type": "code",
   "execution_count": 83,
   "id": "f1521c6c",
   "metadata": {},
   "outputs": [
    {
     "name": "stdout",
     "output_type": "stream",
     "text": [
      "          Name  Price  Yeast  Flour  Sugar\n",
      "0   Apple Pie    2.99   0.00   0.75   1.50\n",
      "1   Croissant    2.50   0.50   1.50   0.25\n",
      "2  Poppy Seed    5.99   1.15   1.50   0.75\n",
      "Index(['Name', 'Price', 'Yeast', 'Flour', 'Sugar'], dtype='object')\n"
     ]
    }
   ],
   "source": [
    "data = pd.read_csv(\"pastry.csv\")\n",
    "print(data)\n",
    "print(data.columns)"
   ]
  },
  {
   "cell_type": "markdown",
   "id": "7c47a78f",
   "metadata": {},
   "source": [
    "## Profit Maximization "
   ]
  },
  {
   "cell_type": "markdown",
   "id": "79d75ce8",
   "metadata": {},
   "source": [
    "### Method \n",
    "To determine the optimal production quantities of pastries for maximizing profit, we employed linear programming techniques. First, the availability of ingredients (yeast, flour, and sugar) was defined based on the data from the ingredients.csv file. We then extracted the price and ingredient requirements for each pastry from the pastry.csv file. The objective function, aimed at maximizing profit, was represented by the negative prices of the pastries. The inequality constraints were constructed to ensure the total usage of each ingredient did not exceed the available quantities, with additional constraints to prevent negative production values. We formulated the problem as a linear program and solved it using the linprog function from the SciPy library. The results provided the optimal quantities of each pastry to produce, thereby maximizing the overall profit."
   ]
  },
  {
   "cell_type": "code",
   "execution_count": 84,
   "id": "b0abe495",
   "metadata": {},
   "outputs": [],
   "source": [
    "import pandas as pd\n",
    "import numpy as np\n",
    "from scipy.optimize import linprog\n",
    "\n",
    "# The constraints of how many ingredients are available \n",
    "yeast_available = ingredients[\"Yeast\"].values\n",
    "flour_available = ingredients[\"Flour\"].values\n",
    "sugar_available = ingredients[\"Sugar\"].values"
   ]
  },
  {
   "cell_type": "code",
   "execution_count": 85,
   "id": "276d7400",
   "metadata": {},
   "outputs": [],
   "source": [
    "data = pd.read_csv(\"pastries.csv\")\n",
    "prices = -data[\"Price\"].values  \n",
    "# The code below seperates the pastries with respect to the ingredients   \n",
    "yeast_requirements = data[\"Yeast\"].values\n",
    "flour_requirements = data[\"Flour\"].values\n",
    "sugar_requirements = data[\"Sugar\"].values"
   ]
  },
  {
   "cell_type": "code",
   "execution_count": 86,
   "id": "1bd5fb69",
   "metadata": {},
   "outputs": [],
   "source": [
    "# The inequality constraints (A_ub * x <= b_ub)\n",
    "# A_ub has the requirements of each of the ingredients to make the three pastries \n",
    "A_ub = np.array([yeast_requirements, flour_requirements, sugar_requirements,[-1,0,0],[0,-1,0],[0,0,-1]])\n",
    "# b_ub has the requirements of each of the available ingredients to make the three pastries \n",
    "b_ub = np.concatenate((yeast_available, flour_available, sugar_available, [0, 0, 0]))"
   ]
  },
  {
   "cell_type": "code",
   "execution_count": 87,
   "id": "0af5cdd3",
   "metadata": {},
   "outputs": [],
   "source": [
    "# Solving the linear programming problem\n",
    "answer = linprog(prices, A_ub=A_ub, b_ub=b_ub)"
   ]
  },
  {
   "cell_type": "code",
   "execution_count": 88,
   "id": "c38c41c8",
   "metadata": {},
   "outputs": [],
   "source": [
    "# Extract results\n",
    "max_profit = -answer.fun\n",
    "pastry_quantities = answer.x"
   ]
  },
  {
   "cell_type": "code",
   "execution_count": 89,
   "id": "6de7d992",
   "metadata": {},
   "outputs": [
    {
     "name": "stdout",
     "output_type": "stream",
     "text": [
      "The max profit is 449.00 and can be achieved by producing:\n",
      "* Apple Pie : 50.00 pieces\n",
      "* Croissant : 0.00 pieces\n",
      "* Poppy Seed : 50.00 pieces\n"
     ]
    }
   ],
   "source": [
    "# Output the results\n",
    "print(f\"The max profit is {max_profit:.2f} and can be achieved by producing:\")\n",
    "for i, pastry in enumerate(data[\"Name\"]):\n",
    "    quantity = pastry_quantities[i]\n",
    "    print(f\"* {pastry}: {quantity:.2f} pieces\")\n"
   ]
  },
  {
   "cell_type": "markdown",
   "id": "da01587a",
   "metadata": {},
   "source": [
    "### Output\n",
    "The optimization results indicate that the maximum profit achievable with the available ingredients is $449.00. To reach this profit, the optimal production strategy involves making 50 pieces of Apple Pie and 50 pieces of Poppy Seed, while not producing any Croissants. This allocation fully utilizes the available ingredients—57.5 units of yeast, 112.5 units of flour, and 245 units of sugar—ensuring no resources are wasted. The decision to prioritize Apple Pie and Poppy Seed over Croissants is driven by the goal of maximizing profit, given the ingredient constraints and the selling prices of the pastries."
   ]
  },
  {
   "cell_type": "code",
   "execution_count": null,
   "id": "c0a5b123",
   "metadata": {},
   "outputs": [],
   "source": []
  }
 ],
 "metadata": {
  "kernelspec": {
   "display_name": "Python 3 (ipykernel)",
   "language": "python",
   "name": "python3"
  },
  "language_info": {
   "codemirror_mode": {
    "name": "ipython",
    "version": 3
   },
   "file_extension": ".py",
   "mimetype": "text/x-python",
   "name": "python",
   "nbconvert_exporter": "python",
   "pygments_lexer": "ipython3",
   "version": "3.11.5"
  }
 },
 "nbformat": 4,
 "nbformat_minor": 5
}
